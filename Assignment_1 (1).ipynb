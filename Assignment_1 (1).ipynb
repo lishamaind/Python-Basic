{
  "nbformat": 4,
  "nbformat_minor": 0,
  "metadata": {
    "colab": {
      "provenance": []
    },
    "kernelspec": {
      "name": "python3",
      "display_name": "Python 3"
    },
    "language_info": {
      "name": "python"
    }
  },
  "cells": [
    {
      "cell_type": "markdown",
      "source": [
        "# *Assignment No:1 *\n",
        "***Theory questions:-***"
      ],
      "metadata": {
        "id": "aVOWAQX0RZTZ"
      }
    },
    {
      "cell_type": "markdown",
      "source": [
        "1) What is Python, and why is it popular?\n",
        "\n",
        "Ans:- Python is a programming language.It is very popular because python is very easy to learn and beginner friendly language.\n",
        "\n",
        "2)  What is an interpreter in Python?\n",
        "\n",
        "Ans:- An interpreter is a program which convert/translate codes to machine code so that computer can understand python code/programms.\n",
        "\n",
        "3) What are pre-defined keywords in Python?\n",
        "\n",
        "Ans:- Pre defined keywords is the words reserved with a specific meaning that are used in python programming language.so we cannot use these keywords as a veriables.There are total 36 keywords in python including help().for eg.True,False,if,else,break,etc.\n",
        "\n",
        "4) Can keywords be used as variable names?\n",
        "\n",
        "Ans:- No! We cannot use keywords as a veriable if we did so then it will throw an error.\n",
        "\n",
        "5) What is mutability in Python?\n",
        "\n",
        "Ans:- Mutability is a ability to change/modify an object's value after the creation or declaration.For eg. List.(we can change the values in list after declaration.\n",
        "\n",
        "6) Why are lists mutable, but tuples are immutable?\n",
        "\n",
        "Ans:- Tuples use parentheses to store values whereas lists uses square blocks thats why we cannot change assigned value in tuples but we can change the assigned value in list because it stores into blocks.That's why lists are mutable and tuples are immutable.\n",
        "\n",
        "7) What is the difference between “==” and “is” operators in Python?\n",
        "\n",
        "Ans:- The major difference between \"==\" and \"is\" is \"==\" used yo compare values of two difference objects to shows equality. whereas \"is\" used to compare the identity of two objects.\n",
        "\n",
        "8) What are logical operators in Python?\n",
        "\n",
        "Ans:- Logical operator is the pre defined keywords that connects and evaluate conditions in a single expression.\n",
        "For eg.And,Or,etc.\n",
        "\n",
        "9) What is type casting in Python?\n",
        "\n",
        "Ans:- Type casting in Python is the process of converting a variable's datatype to another datatype.\n",
        "For eg. we can change int() to str().\n",
        "\n",
        "10) What is the difference between implicit and explicit type casting?\n",
        "\n",
        "Ans:- [1]Implicit typecasting:- An implicit type conversion is automatically performed by the compiler when differing datatypes are intermixed in an expression.An implicit type conversion is performed without an intervention.\n",
        " [2] Explicit typecasting:- An explicit type conversion is user defined\n",
        "  conversion that forces an expression to be of specific type.An explicit type conversion is specified explicitly by the programmer.\n",
        "\n",
        "11) What is the purpose of conditional statements in Python?\n",
        "\n",
        "Ans:-Conditional statements are used to instruct the computer for the decision to make when given some conditions.like if,else,true or false.\n",
        "For eg.if condition, elif, if-else,etc.\n",
        "\n",
        "12) How does the elif statement work?\n",
        "\n",
        "Ans:- Elif keyword stands for else if.This statement is used to check multimuple condition statements.\n",
        "For eg.There is two conditions and first one is false then it will proceed to second condition to check whether this is true.\n",
        "\n",
        "13) What is the difference between for and while loops?\n",
        "\n",
        "Ans:- The major difference between for loop and while loop is that \"for\" loop is used when the number of iterations is known, whereas programms keeps running till the execution is done in a \"while\" loop until the statement in the program is proved wrong.\n",
        "\n",
        "\n",
        "14) Describe a scenario where a while loop is more suitable than a for loop.\n",
        "\n",
        "Ans:-  While loop is quite complex so when the condition has nothing to do with a collection/array and does not require a set number of interations.If we don't know how many times a loop will need to run because while loop are suitable when the number of interations is not pre determined."
      ],
      "metadata": {
        "id": "g9sttebWEg3O"
      }
    },
    {
      "cell_type": "markdown",
      "source": [
        "# ***Practical Questions:-***"
      ],
      "metadata": {
        "id": "MsFfhN8gR8_o"
      }
    },
    {
      "cell_type": "code",
      "source": [
        "# 1) Write a Python program to print \"Hello, World.\n",
        "print(\"Hello,World\")"
      ],
      "metadata": {
        "colab": {
          "base_uri": "https://localhost:8080/"
        },
        "id": "d3sl1mH3R6u1",
        "outputId": "b97aa4c4-b8b3-4692-b70c-671f8a862ea7"
      },
      "execution_count": null,
      "outputs": [
        {
          "output_type": "stream",
          "name": "stdout",
          "text": [
            "Hello,World\n"
          ]
        }
      ]
    },
    {
      "cell_type": "code",
      "source": [
        "# 2) Write a Python program that displays your name and age.\n",
        "age=22\n",
        "name=\"LISHA\"\n",
        "print(age,name)"
      ],
      "metadata": {
        "colab": {
          "base_uri": "https://localhost:8080/"
        },
        "id": "8-Wam3azXt0S",
        "outputId": "fd96a09a-2142-4e6c-c7ab-3821c8ca3748"
      },
      "execution_count": null,
      "outputs": [
        {
          "output_type": "stream",
          "name": "stdout",
          "text": [
            "22 LISHA\n"
          ]
        }
      ]
    },
    {
      "cell_type": "code",
      "source": [
        "# 3) Write code to print all the pre-defined keywords in Python using the keyword library.\n",
        "import keyword\n",
        "print(keyword.kwlist)"
      ],
      "metadata": {
        "colab": {
          "base_uri": "https://localhost:8080/"
        },
        "id": "hF2AVt5PYy_O",
        "outputId": "7bd3f30d-e764-42ae-b396-be2488bf959f"
      },
      "execution_count": 15,
      "outputs": [
        {
          "output_type": "stream",
          "name": "stdout",
          "text": [
            "['False', 'None', 'True', 'and', 'as', 'assert', 'async', 'await', 'break', 'class', 'continue', 'def', 'del', 'elif', 'else', 'except', 'finally', 'for', 'from', 'global', 'if', 'import', 'in', 'is', 'lambda', 'nonlocal', 'not', 'or', 'pass', 'raise', 'return', 'try', 'while', 'with', 'yield']\n"
          ]
        }
      ]
    },
    {
      "cell_type": "code",
      "source": [
        "# 4) Write a program that checks if a given word is a Python keyword.\n",
        "import keyword\n",
        "word=input(\"enter a word   :-\")\n",
        "keyword_list = keyword.kwlist\n",
        "if word in keyword_list:\n",
        "  print(\"yes\")\n",
        "else:\n",
        "    print(\"no\")\n"
      ],
      "metadata": {
        "colab": {
          "base_uri": "https://localhost:8080/"
        },
        "id": "NKIwbX5haBXC",
        "outputId": "894f8179-c33e-4220-c6e9-31b438ebb106"
      },
      "execution_count": null,
      "outputs": [
        {
          "output_type": "stream",
          "name": "stdout",
          "text": [
            "enter a word   :-if\n",
            "yes\n"
          ]
        }
      ]
    },
    {
      "cell_type": "code",
      "source": [
        "# 5) Create a list and tuple in Python, and demonstrate how attempting to change an element works differently for each\n",
        "a=[1,2,3,4] #list\n",
        "b=(10,20,30,40) #tuple\n",
        "a[1]= 7 # it will change variable because lists are muatable.\n",
        "# b[0]= 100 #it will throw an error because tuples are immutable.\n",
        "a\n",
        "\n"
      ],
      "metadata": {
        "colab": {
          "base_uri": "https://localhost:8080/"
        },
        "id": "0ysk91p8dIQU",
        "outputId": "639efdad-07df-468b-8cb7-b154917fb8b5"
      },
      "execution_count": 4,
      "outputs": [
        {
          "output_type": "execute_result",
          "data": {
            "text/plain": [
              "[1, 7, 3, 4]"
            ]
          },
          "metadata": {},
          "execution_count": 4
        }
      ]
    },
    {
      "cell_type": "code",
      "source": [
        "# 6) Write a function to demonstrate the behavior of mutable and immutable arguments.(list)(mutable)\n",
        "abc=['lisha','kunal','rushi']\n",
        "abc[2]= 'pooja'        # this is mutable so we can change variables at anytime.\n",
        "abc"
      ],
      "metadata": {
        "colab": {
          "base_uri": "https://localhost:8080/"
        },
        "id": "xp70hdHwkkiv",
        "outputId": "b78515eb-1e20-475f-cb98-de9f582e0523"
      },
      "execution_count": null,
      "outputs": [
        {
          "output_type": "execute_result",
          "data": {
            "text/plain": [
              "['lisha', 'kunal', 'pooja']"
            ]
          },
          "metadata": {},
          "execution_count": 11
        }
      ]
    },
    {
      "cell_type": "code",
      "source": [
        "# 7) Write a function to demonstrate the behavior of mutable and immutable arguments.(tuple)(immutable)\n",
        "xyz=('lisha','kunal','rushi')\n",
        "type(xyz)\n",
        "# xyz[2]='pooja'            # its an error because its immutable.we cannot change variable.\n",
        "xyz"
      ],
      "metadata": {
        "id": "OIc7JOWolb2U",
        "colab": {
          "base_uri": "https://localhost:8080/"
        },
        "outputId": "597cf1a7-c319-46a6-fe46-283878a621c6"
      },
      "execution_count": 10,
      "outputs": [
        {
          "output_type": "execute_result",
          "data": {
            "text/plain": [
              "('lisha', 'kunal', 'rushi')"
            ]
          },
          "metadata": {},
          "execution_count": 10
        }
      ]
    },
    {
      "cell_type": "code",
      "source": [
        "# 8) Write a program to demonstrate the use of logical operators.\n",
        "def logical_operator_demo():\n",
        "  A = int(input(\"enter a number 'A'\"))\n",
        "  B = int(input(\"enter a number 'B'\"))\n",
        "  # use of \"AND\" operator:-\n",
        "  print(\"\\nLogical AND:\")\n",
        "  print(f\"A>0 and B>0 : {A>0 and B>0}\")\n",
        "  #use of \"OR\" operator\n",
        "  print(\"\\nLogical OR:\")\n",
        "  print(f\"A>0 and B>0 : {A>0 and B>0}\")\n",
        "  # use of \"NOT\" operator\n",
        "  print(\"\\nLogical NOT:\")\n",
        "  print(f\" not (A>0): {not(A>0)}\")\n",
        "  print(f\" not (B>0): {not(b>0)}\")\n",
        "  #call the fuction:-\n",
        "  logical_operator_demo()\n",
        "\n",
        ""
      ],
      "metadata": {
        "id": "U5cLZ3KnWFXA"
      },
      "execution_count": 22,
      "outputs": []
    },
    {
      "cell_type": "code",
      "source": [
        "# 9) Write a Python program to convert user input from string to integer, float, and boolean types.(integer)\n",
        "s=input(\"enter variable:-\")\n",
        "type(s) #that is a string.\n",
        "s= int(s) # now we use type casting method to change string into integer.\n",
        "type(s)"
      ],
      "metadata": {
        "colab": {
          "base_uri": "https://localhost:8080/"
        },
        "id": "H4QbtD1Laxx-",
        "outputId": "236cad1c-45e6-4495-ffa3-9e229d1bddba"
      },
      "execution_count": 37,
      "outputs": [
        {
          "name": "stdout",
          "output_type": "stream",
          "text": [
            "enter variable:-100\n"
          ]
        },
        {
          "output_type": "execute_result",
          "data": {
            "text/plain": [
              "int"
            ]
          },
          "metadata": {},
          "execution_count": 37
        }
      ]
    },
    {
      "cell_type": "code",
      "source": [
        "# 9) Write a Python program to convert user input from string to integer, float, and boolean types. (float)\n",
        "s=input(\"enter variable:-\")\n",
        "type(s) #that is a string.\n",
        "s= float(s) # now we use type casting method to change string into float.\n",
        "type(s)"
      ],
      "metadata": {
        "colab": {
          "base_uri": "https://localhost:8080/"
        },
        "id": "_1oIIo-hfkWl",
        "outputId": "b191c64e-e976-4c86-9435-c19ad7137bbe"
      },
      "execution_count": 39,
      "outputs": [
        {
          "name": "stdout",
          "output_type": "stream",
          "text": [
            "enter variable:-10.10\n"
          ]
        },
        {
          "output_type": "execute_result",
          "data": {
            "text/plain": [
              "float"
            ]
          },
          "metadata": {},
          "execution_count": 39
        }
      ]
    },
    {
      "cell_type": "code",
      "source": [
        "# 9) Write a Python program to convert user input from string to integer, float, and boolean types. (float)\n",
        "s=input(\"enter variable:-\")\n",
        "type(s) #that is a string.\n",
        "s= bool(s) # now we use type casting method to change string into boolean.\n",
        "type(s)"
      ],
      "metadata": {
        "colab": {
          "base_uri": "https://localhost:8080/"
        },
        "id": "x-kpOWqTgBuT",
        "outputId": "af76f7e7-d880-48bd-b2c9-962f29d0b56a"
      },
      "execution_count": 42,
      "outputs": [
        {
          "name": "stdout",
          "output_type": "stream",
          "text": [
            "enter variable:-true\n"
          ]
        },
        {
          "output_type": "execute_result",
          "data": {
            "text/plain": [
              "bool"
            ]
          },
          "metadata": {},
          "execution_count": 42
        }
      ]
    },
    {
      "cell_type": "code",
      "source": [
        " # 10) Write code to demonstrate type casting with list elements.\n",
        "\n",
        " s_list= ['100', 'LISHA',9.99,100]\n",
        " type(s_list)\n",
        " s_list[0]= int(s_list[0]) ## change string into integer.\n",
        "type(s_list[0])\n",
        " s_list[1]= bool(s_list[1]) ## change string into boolean.\n",
        " type(s_list[1])\n",
        " s_list[2]= int(s_list[2]) ## change float into integer.\n",
        " type(s_list[2])\n",
        " s_list[3]= str(s_list[3]) ## change integer into string.\n",
        " type(s_list[3])\n",
        "\n",
        "\n"
      ],
      "metadata": {
        "colab": {
          "base_uri": "https://localhost:8080/"
        },
        "id": "XU5n8csAgdor",
        "outputId": "99792631-0128-4c90-8b8b-fabdfc9b93b3"
      },
      "execution_count": 69,
      "outputs": [
        {
          "output_type": "execute_result",
          "data": {
            "text/plain": [
              "str"
            ]
          },
          "metadata": {},
          "execution_count": 69
        }
      ]
    },
    {
      "cell_type": "code",
      "source": [
        " # 11) Write a program that checks if a number is positive, negative, or zero.\n",
        " num=int(input(\"enter a number:-  \"))\n",
        " if num>0:\n",
        "   print(\"positive\")\n",
        " elif num<0:\n",
        "   print(\"negative\")\n",
        " else:\n",
        "   print(\"zero\")\n"
      ],
      "metadata": {
        "colab": {
          "base_uri": "https://localhost:8080/"
        },
        "id": "HW3SUqWPj-Jk",
        "outputId": "3e9b548f-047e-40d4-8940-f304fe630657"
      },
      "execution_count": 74,
      "outputs": [
        {
          "output_type": "stream",
          "name": "stdout",
          "text": [
            "enter a number:-  -100\n",
            "negative\n"
          ]
        }
      ]
    },
    {
      "cell_type": "code",
      "source": [
        " # 12) Write a for loop to print numbers from 1 to 10.\n",
        " for i in range(1,11):\n",
        "   print(i)"
      ],
      "metadata": {
        "colab": {
          "base_uri": "https://localhost:8080/"
        },
        "id": "YcdyRXvToSRN",
        "outputId": "4a8805e6-2735-4f72-c1e4-bfa882d2b46b"
      },
      "execution_count": 75,
      "outputs": [
        {
          "output_type": "stream",
          "name": "stdout",
          "text": [
            "1\n",
            "2\n",
            "3\n",
            "4\n",
            "5\n",
            "6\n",
            "7\n",
            "8\n",
            "9\n",
            "10\n"
          ]
        }
      ]
    },
    {
      "cell_type": "code",
      "source": [
        " # 13) Write a Python program to find the sum of all even numbers between 1 and 50.\n",
        " sum =0\n",
        " for i in range(1,51):\n",
        "   if i % 2 == 0:\n",
        "     sum = sum+i\n",
        "print(sum)"
      ],
      "metadata": {
        "colab": {
          "base_uri": "https://localhost:8080/"
        },
        "id": "labaPEfRow9b",
        "outputId": "7070555a-39e7-489c-dd56-31956e304ae6"
      },
      "execution_count": 77,
      "outputs": [
        {
          "output_type": "stream",
          "name": "stdout",
          "text": [
            "650\n"
          ]
        }
      ]
    },
    {
      "source": [
        "# 14)  Write a program to reverse a string using a while loop.\n",
        "\n",
        "def reverse_string(input_string): # Define a function to reverse a string\n",
        "  reversed_string = \"\"\n",
        "  index = len(input_string) - 1\n",
        "  while index >= 0: # Loop until the index reaches the beginning of the string\n",
        "    reversed_string += input_string[index]\n",
        "    index -= 1 # Decrement the index\n",
        "\n",
        "  return reversed_string # Return the reversed string\n",
        "\n",
        "# Example:\n",
        "my_string = \"MY NAME IS LISHA\"\n",
        "reversed_string = reverse_string(my_string)\n",
        "print(reversed_string)  # Print the reversed string"
      ],
      "cell_type": "code",
      "metadata": {
        "colab": {
          "base_uri": "https://localhost:8080/"
        },
        "id": "_U3ersH0rjIP",
        "outputId": "f1d61085-83f5-4a39-a851-60d45dfc0314"
      },
      "execution_count": 104,
      "outputs": [
        {
          "output_type": "stream",
          "name": "stdout",
          "text": [
            "AHSIL SI EMAN YM\n"
          ]
        }
      ]
    },
    {
      "cell_type": "code",
      "source": [
        "# 15)  Write a Python program to calculate the factorial of a number provided by the user using a while loop.\n",
        "def factorial(n):\n",
        "  result = 1\n",
        "  while n > 0:\n",
        "    result *= n\n",
        "    n -= 1\n",
        "  return result"
      ],
      "metadata": {
        "id": "ctHXP3k5sie-"
      },
      "execution_count": 112,
      "outputs": []
    },
    {
      "source": [
        "def factorial(n):\n",
        "\n",
        "  result = 1\n",
        "  while n > 0:\n",
        "    result *= n\n",
        "    n -= 1\n",
        "  return result\n",
        "\n",
        "# Get input from the user\n",
        "num = int(input(\"Enter a non-negative integer: \"))\n",
        "\n",
        "# Calculate the factorial\n",
        "if num >= 0:\n",
        "  fact = factorial(num)\n",
        "  print(\"The factorial of\", num, \"is\", fact)\n",
        "else:\n",
        "  print(\"Factorial is not defined for negative numbers.\")"
      ],
      "cell_type": "code",
      "metadata": {
        "colab": {
          "base_uri": "https://localhost:8080/"
        },
        "id": "G3uJBSPMtF-a",
        "outputId": "a26e62ac-a28a-4c8f-ea2e-dca357f0f968"
      },
      "execution_count": 108,
      "outputs": [
        {
          "output_type": "stream",
          "name": "stdout",
          "text": [
            "Enter a non-negative integer: 10\n",
            "The factorial of 10 is 3628800\n"
          ]
        }
      ]
    }
  ]
}